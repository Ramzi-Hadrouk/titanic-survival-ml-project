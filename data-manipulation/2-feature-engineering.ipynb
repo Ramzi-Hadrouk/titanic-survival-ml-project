{
 "cells": [
  {
   "cell_type": "code",
   "execution_count": 13,
   "id": "1ded3cbd",
   "metadata": {},
   "outputs": [],
   "source": [
    "import pandas as pd"
   ]
  },
  {
   "cell_type": "code",
   "execution_count": 15,
   "id": "ef909cbb",
   "metadata": {},
   "outputs": [],
   "source": [
    "# Load your data\n",
    "df = pd.read_csv(\"../data/processed/train_processed.csv\")  # or test.csv"
   ]
  },
  {
   "cell_type": "markdown",
   "id": "394f3631",
   "metadata": {},
   "source": [
    "### 1. Create FamilySize = SibSp + Parch + 1 (self)\n"
   ]
  },
  {
   "cell_type": "code",
   "execution_count": null,
   "id": "fc5ee264",
   "metadata": {},
   "outputs": [],
   "source": [
    "\n",
    "df[\"FamilySize\"] = df[\"SibSp\"] + df[\"Parch\"] + 1\n"
   ]
  },
  {
   "cell_type": "markdown",
   "id": "a0776e12",
   "metadata": {},
   "source": [
    "\n",
    "### 2. Create IsAlone = 1 if FamilySize == 1, else 0\n"
   ]
  },
  {
   "cell_type": "code",
   "execution_count": null,
   "id": "d5f0f241",
   "metadata": {},
   "outputs": [],
   "source": [
    "df[\"IsAlone\"] = (df[\"FamilySize\"] == 1).astype(int)"
   ]
  },
  {
   "cell_type": "code",
   "execution_count": null,
   "id": "e5019652",
   "metadata": {},
   "outputs": [
    {
     "name": "stdout",
     "output_type": "stream",
     "text": [
      "   SibSp  Parch  FamilySize  IsAlone\n",
      "0      1      0           2        0\n",
      "1      1      0           2        0\n",
      "2      0      0           1        1\n",
      "3      1      0           2        0\n",
      "4      0      0           1        1\n"
     ]
    }
   ],
   "source": [
    "# Preview result\n",
    "print(df[[\"SibSp\", \"Parch\", \"FamilySize\", \"IsAlone\"]].head())"
   ]
  },
  {
   "cell_type": "code",
   "execution_count": null,
   "id": "8f777659",
   "metadata": {},
   "outputs": [],
   "source": [
    "df.to_csv(\"../data/processed/train_processed\", index=False)  "
   ]
  },
  {
   "cell_type": "code",
   "execution_count": null,
   "id": "aa3b7698",
   "metadata": {},
   "outputs": [],
   "source": []
  }
 ],
 "metadata": {
  "kernelspec": {
   "display_name": ".venv",
   "language": "python",
   "name": "python3"
  },
  "language_info": {
   "codemirror_mode": {
    "name": "ipython",
    "version": 3
   },
   "file_extension": ".py",
   "mimetype": "text/x-python",
   "name": "python",
   "nbconvert_exporter": "python",
   "pygments_lexer": "ipython3",
   "version": "3.13.3"
  }
 },
 "nbformat": 4,
 "nbformat_minor": 5
}
